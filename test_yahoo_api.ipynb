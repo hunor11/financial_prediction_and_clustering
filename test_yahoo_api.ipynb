{
 "cells": [
  {
   "cell_type": "code",
   "execution_count": 2,
   "metadata": {},
   "outputs": [
    {
     "name": "stdout",
     "output_type": "stream",
     "text": [
      "General Information: {'maxAge': 86400, 'priceHint': 2, 'previousClose': 5705.45, 'open': 5723.22, 'dayLow': 5723.22, 'dayHigh': 5772.52, 'regularMarketPreviousClose': 5705.45, 'regularMarketOpen': 5723.22, 'regularMarketDayLow': 5723.22, 'regularMarketDayHigh': 5772.52, 'volume': 2742173000, 'regularMarketVolume': 2742173000, 'averageVolume': 3703295937, 'averageVolume10days': 3696966000, 'averageDailyVolume10Day': 3696966000, 'bid': 5690.73, 'ask': 5766.99, 'fiftyTwoWeekLow': 4343.94, 'fiftyTwoWeekHigh': 5878.46, 'fiftyDayAverage': 5701.743, 'twoHundredDayAverage': 5359.147, 'currency': 'USD', 'exchange': 'SNP', 'quoteType': 'INDEX', 'symbol': '^GSPC', 'underlyingSymbol': '^GSPC', 'shortName': 'S&P 500', 'longName': 'S&P 500', 'firstTradeDateEpochUtc': -1325583000, 'timeZoneFullName': 'America/New_York', 'timeZoneShortName': 'EST', 'uuid': '8ffd55d1-3d1d-3733-a480-56768bc708e6', 'messageBoardId': 'finmb_INDEXGSPC', 'gmtOffSetMilliseconds': -18000000, 'trailingPegRatio': None}\n",
      "Historical Data (last year):                                   Open         High          Low        Close  \\\n",
      "Date                                                                            \n",
      "2023-11-02 00:00:00-04:00  4268.259766  4319.720215  4268.259766  4317.779785   \n",
      "2023-11-03 00:00:00-04:00  4334.229980  4373.620117  4334.229980  4358.339844   \n",
      "2023-11-06 00:00:00-05:00  4364.270020  4372.209961  4347.529785  4365.979980   \n",
      "2023-11-07 00:00:00-05:00  4366.209961  4386.259766  4355.410156  4378.379883   \n",
      "2023-11-08 00:00:00-05:00  4384.370117  4391.200195  4359.759766  4382.779785   \n",
      "...                                ...          ...          ...          ...   \n",
      "2024-10-28 00:00:00-04:00  5833.930176  5842.919922  5823.080078  5823.520020   \n",
      "2024-10-29 00:00:00-04:00  5819.680176  5847.189941  5802.169922  5832.919922   \n",
      "2024-10-30 00:00:00-04:00  5832.649902  5850.939941  5811.279785  5813.669922   \n",
      "2024-10-31 00:00:00-04:00  5775.339844  5775.339844  5702.859863  5705.450195   \n",
      "2024-11-01 00:00:00-04:00  5723.220215  5772.520020  5723.220215  5728.799805   \n",
      "\n",
      "                               Volume  Dividends  Stock Splits  \n",
      "Date                                                            \n",
      "2023-11-02 00:00:00-04:00  4669780000        0.0           0.0  \n",
      "2023-11-03 00:00:00-04:00  4570960000        0.0           0.0  \n",
      "2023-11-06 00:00:00-05:00  3656340000        0.0           0.0  \n",
      "2023-11-07 00:00:00-05:00  3791230000        0.0           0.0  \n",
      "2023-11-08 00:00:00-05:00  3729510000        0.0           0.0  \n",
      "...                               ...        ...           ...  \n",
      "2024-10-28 00:00:00-04:00  3691280000        0.0           0.0  \n",
      "2024-10-29 00:00:00-04:00  3879100000        0.0           0.0  \n",
      "2024-10-30 00:00:00-04:00  3851120000        0.0           0.0  \n",
      "2024-10-31 00:00:00-04:00  4425660000        0.0           0.0  \n",
      "2024-11-01 00:00:00-04:00  3796450000        0.0           0.0  \n",
      "\n",
      "[252 rows x 7 columns]\n",
      "Current Price: N/A\n"
     ]
    }
   ],
   "source": [
    "import yfinance as yf\n",
    "\n",
    "# Define the ticker for the S&P 500 index (SPY is the ETF for the S&P 500)\n",
    "ticker_symbol = \"^GSPC\"  # Use \"SPY\" for the ETF or \"^GSPC\" for the index itself\n",
    "\n",
    "# Create a Ticker object\n",
    "sp500 = yf.Ticker(ticker_symbol)\n",
    "\n",
    "# Get the latest market data\n",
    "sp500_info = sp500.info  # General information about the S&P 500\n",
    "print(\"General Information:\", sp500_info)\n",
    "\n",
    "# Get historical market data\n",
    "sp500_history = sp500.history(period=\"1y\")  # Retrieve 1 year of data\n",
    "print(\"Historical Data (last year):\", sp500_history)\n",
    "\n",
    "# Get specific information (e.g., current price)\n",
    "current_price = sp500_info.get(\"currentPrice\", \"N/A\")\n",
    "print(\"Current Price:\", current_price)\n"
   ]
  },
  {
   "cell_type": "code",
   "execution_count": 3,
   "metadata": {},
   "outputs": [
    {
     "name": "stdout",
     "output_type": "stream",
     "text": [
      "{'address1': 'One Apple Park Way', 'city': 'Cupertino', 'state': 'CA', 'zip': '95014', 'country': 'United States', 'phone': '(408) 996-1010', 'website': 'https://www.apple.com', 'industry': 'Consumer Electronics', 'industryKey': 'consumer-electronics', 'industryDisp': 'Consumer Electronics', 'sector': 'Technology', 'sectorKey': 'technology', 'sectorDisp': 'Technology', 'longBusinessSummary': 'Apple Inc. designs, manufactures, and markets smartphones, personal computers, tablets, wearables, and accessories worldwide. The company offers iPhone, a line of smartphones; Mac, a line of personal computers; iPad, a line of multi-purpose tablets; and wearables, home, and accessories comprising AirPods, Apple TV, Apple Watch, Beats products, and HomePod. It also provides AppleCare support and cloud services; and operates various platforms, including the App Store that allow customers to discover and download applications and digital content, such as books, music, video, games, and podcasts, as well as advertising services include third-party licensing arrangements and its own advertising platforms. In addition, the company offers various subscription-based services, such as Apple Arcade, a game subscription service; Apple Fitness+, a personalized fitness service; Apple Music, which offers users a curated listening experience with on-demand radio stations; Apple News+, a subscription news and magazine service; Apple TV+, which offers exclusive original content; Apple Card, a co-branded credit card; and Apple Pay, a cashless payment service, as well as licenses its intellectual property. The company serves consumers, and small and mid-sized businesses; and the education, enterprise, and government markets. It distributes third-party applications for its products through the App Store. The company also sells its products through its retail and online stores, and direct sales force; and third-party cellular network carriers, wholesalers, retailers, and resellers. Apple Inc. was founded in 1976 and is headquartered in Cupertino, California.', 'fullTimeEmployees': 164000, 'companyOfficers': [{'maxAge': 1, 'name': 'Mr. Timothy D. Cook', 'age': 62, 'title': 'CEO & Director', 'yearBorn': 1961, 'fiscalYear': 2023, 'totalPay': 16239562, 'exercisedValue': 0, 'unexercisedValue': 0}, {'maxAge': 1, 'name': 'Mr. Luca  Maestri', 'age': 60, 'title': 'CFO & Senior VP', 'yearBorn': 1963, 'fiscalYear': 2023, 'totalPay': 4612242, 'exercisedValue': 0, 'unexercisedValue': 0}, {'maxAge': 1, 'name': 'Mr. Jeffrey E. Williams', 'age': 59, 'title': 'Chief Operating Officer', 'yearBorn': 1964, 'fiscalYear': 2023, 'totalPay': 4637585, 'exercisedValue': 0, 'unexercisedValue': 0}, {'maxAge': 1, 'name': 'Ms. Katherine L. Adams', 'age': 59, 'title': 'Senior VP, General Counsel & Secretary', 'yearBorn': 1964, 'fiscalYear': 2023, 'totalPay': 4618064, 'exercisedValue': 0, 'unexercisedValue': 0}, {'maxAge': 1, 'name': \"Ms. Deirdre  O'Brien\", 'age': 56, 'title': 'Chief People Officer & Senior VP of Retail', 'yearBorn': 1967, 'fiscalYear': 2023, 'totalPay': 4613369, 'exercisedValue': 0, 'unexercisedValue': 0}, {'maxAge': 1, 'name': 'Mr. Chris  Kondo', 'title': 'Senior Director of Corporate Accounting', 'fiscalYear': 2023, 'exercisedValue': 0, 'unexercisedValue': 0}, {'maxAge': 1, 'name': 'Suhasini  Chandramouli', 'title': 'Director of Investor Relations', 'fiscalYear': 2023, 'exercisedValue': 0, 'unexercisedValue': 0}, {'maxAge': 1, 'name': 'Mr. Greg  Joswiak', 'title': 'Senior Vice President of Worldwide Marketing', 'fiscalYear': 2023, 'exercisedValue': 0, 'unexercisedValue': 0}, {'maxAge': 1, 'name': 'Mr. Adrian  Perica', 'age': 49, 'title': 'Head of Corporate Development', 'yearBorn': 1974, 'fiscalYear': 2023, 'exercisedValue': 0, 'unexercisedValue': 0}, {'maxAge': 1, 'name': 'Mr. Michael  Fenger', 'title': 'VP of Worldwide Sales', 'fiscalYear': 2023, 'exercisedValue': 0, 'unexercisedValue': 0}], 'auditRisk': 6, 'boardRisk': 1, 'compensationRisk': 2, 'shareHolderRightsRisk': 1, 'overallRisk': 1, 'governanceEpochDate': 1730419200, 'compensationAsOfEpochDate': 1703980800, 'irWebsite': 'http://investor.apple.com/', 'maxAge': 86400, 'priceHint': 2, 'previousClose': 225.12, 'open': 225.07, 'dayLow': 225.05, 'dayHigh': 227.06, 'regularMarketPreviousClose': 225.12, 'regularMarketOpen': 225.07, 'regularMarketDayLow': 225.05, 'regularMarketDayHigh': 227.06, 'dividendRate': 1.0, 'dividendYield': 0.0044, 'exDividendDate': 1731024000, 'payoutRatio': 0.1612, 'fiveYearAvgDividendYield': 0.63, 'beta': 1.24, 'trailingPE': 37.291943, 'forwardPE': 27.314638, 'volume': 12272219, 'regularMarketVolume': 12272219, 'averageVolume': 47742718, 'averageVolume10days': 46866260, 'averageDailyVolume10Day': 46866260, 'bid': 226.66, 'ask': 226.78, 'bidSize': 300, 'askSize': 300, 'marketCap': 3427280879616, 'fiftyTwoWeekLow': 164.08, 'fiftyTwoWeekHigh': 237.49, 'priceToSalesTrailing12Months': 8.76464, 'fiftyDayAverage': 226.8388, 'twoHundredDayAverage': 203.426, 'trailingAnnualDividendRate': 0.98, 'trailingAnnualDividendYield': 0.004353234, 'currency': 'USD', 'enterpriseValue': 3456762118144, 'profitMargins': 0.23971, 'floatShares': 15091184209, 'sharesOutstanding': 15115799552, 'sharesShort': 133040194, 'sharesShortPriorMonth': 141741381, 'sharesShortPreviousMonthDate': 1727654400, 'dateShortInterest': 1730332800, 'sharesPercentSharesOut': 0.0088, 'heldPercentInsiders': 0.0272, 'heldPercentInstitutions': 0.622, 'shortRatio': 3.24, 'shortPercentOfFloat': 0.0088, 'impliedSharesOutstanding': 15169599488, 'bookValue': 3.767, 'priceToBook': 60.189808, 'lastFiscalYearEnd': 1727481600, 'nextFiscalYearEnd': 1759017600, 'mostRecentQuarter': 1727481600, 'earningsQuarterlyGrowth': -0.358, 'netIncomeToCommon': 93736001536, 'trailingEps': 6.08, 'forwardEps': 8.31, 'lastSplitFactor': '4:1', 'lastSplitDate': 1598832000, 'enterpriseToRevenue': 8.84, 'enterpriseToEbitda': 25.67, '52WeekChange': 0.18665326, 'SandP52WeekChange': 0.3276534, 'lastDividendValue': 0.25, 'lastDividendDate': 1731024000, 'exchange': 'NMS', 'quoteType': 'EQUITY', 'symbol': 'AAPL', 'underlyingSymbol': 'AAPL', 'shortName': 'Apple Inc.', 'longName': 'Apple Inc.', 'firstTradeDateEpochUtc': 345479400, 'timeZoneFullName': 'America/New_York', 'timeZoneShortName': 'EST', 'uuid': '8b10e4ae-9eeb-3684-921a-9ab27e4d87aa', 'messageBoardId': 'finmb_24937', 'gmtOffSetMilliseconds': -18000000, 'currentPrice': 226.735, 'targetHighPrice': 300.0, 'targetLowPrice': 184.0, 'targetMeanPrice': 244.2869, 'targetMedianPrice': 250.0, 'recommendationMean': 1.89362, 'recommendationKey': 'buy', 'numberOfAnalystOpinions': 42, 'totalCash': 65171001344, 'totalCashPerShare': 4.311, 'ebitda': 134660997120, 'totalDebt': 119058997248, 'quickRatio': 0.745, 'currentRatio': 0.867, 'totalRevenue': 391034994688, 'debtToEquity': 209.059, 'revenuePerShare': 25.485, 'returnOnAssets': 0.21464, 'returnOnEquity': 1.5741299, 'freeCashflow': 110846001152, 'operatingCashflow': 118254002176, 'earningsGrowth': -0.341, 'revenueGrowth': 0.061, 'grossMargins': 0.46206, 'ebitdaMargins': 0.34437, 'operatingMargins': 0.31171, 'financialCurrency': 'USD', 'trailingPegRatio': 2.3307}\n",
      "dict_keys(['address1', 'city', 'state', 'zip', 'country', 'phone', 'website', 'industry', 'industryKey', 'industryDisp', 'sector', 'sectorKey', 'sectorDisp', 'longBusinessSummary', 'fullTimeEmployees', 'companyOfficers', 'auditRisk', 'boardRisk', 'compensationRisk', 'shareHolderRightsRisk', 'overallRisk', 'governanceEpochDate', 'compensationAsOfEpochDate', 'irWebsite', 'maxAge', 'priceHint', 'previousClose', 'open', 'dayLow', 'dayHigh', 'regularMarketPreviousClose', 'regularMarketOpen', 'regularMarketDayLow', 'regularMarketDayHigh', 'dividendRate', 'dividendYield', 'exDividendDate', 'payoutRatio', 'fiveYearAvgDividendYield', 'beta', 'trailingPE', 'forwardPE', 'volume', 'regularMarketVolume', 'averageVolume', 'averageVolume10days', 'averageDailyVolume10Day', 'bid', 'ask', 'bidSize', 'askSize', 'marketCap', 'fiftyTwoWeekLow', 'fiftyTwoWeekHigh', 'priceToSalesTrailing12Months', 'fiftyDayAverage', 'twoHundredDayAverage', 'trailingAnnualDividendRate', 'trailingAnnualDividendYield', 'currency', 'enterpriseValue', 'profitMargins', 'floatShares', 'sharesOutstanding', 'sharesShort', 'sharesShortPriorMonth', 'sharesShortPreviousMonthDate', 'dateShortInterest', 'sharesPercentSharesOut', 'heldPercentInsiders', 'heldPercentInstitutions', 'shortRatio', 'shortPercentOfFloat', 'impliedSharesOutstanding', 'bookValue', 'priceToBook', 'lastFiscalYearEnd', 'nextFiscalYearEnd', 'mostRecentQuarter', 'earningsQuarterlyGrowth', 'netIncomeToCommon', 'trailingEps', 'forwardEps', 'lastSplitFactor', 'lastSplitDate', 'enterpriseToRevenue', 'enterpriseToEbitda', '52WeekChange', 'SandP52WeekChange', 'lastDividendValue', 'lastDividendDate', 'exchange', 'quoteType', 'symbol', 'underlyingSymbol', 'shortName', 'longName', 'firstTradeDateEpochUtc', 'timeZoneFullName', 'timeZoneShortName', 'uuid', 'messageBoardId', 'gmtOffSetMilliseconds', 'currentPrice', 'targetHighPrice', 'targetLowPrice', 'targetMeanPrice', 'targetMedianPrice', 'recommendationMean', 'recommendationKey', 'numberOfAnalystOpinions', 'totalCash', 'totalCashPerShare', 'ebitda', 'totalDebt', 'quickRatio', 'currentRatio', 'totalRevenue', 'debtToEquity', 'revenuePerShare', 'returnOnAssets', 'returnOnEquity', 'freeCashflow', 'operatingCashflow', 'earningsGrowth', 'revenueGrowth', 'grossMargins', 'ebitdaMargins', 'operatingMargins', 'financialCurrency', 'trailingPegRatio'])\n"
     ]
    }
   ],
   "source": [
    "## All information about AAPL\n",
    "import yfinance as yf\n",
    "\n",
    "aapl = yf.Ticker(\"AAPL\")\n",
    "\n",
    "print(aapl.info)\n",
    "\n",
    "# Print fields \n",
    "\n",
    "print(aapl.info.keys())"
   ]
  },
  {
   "cell_type": "code",
   "execution_count": null,
   "metadata": {},
   "outputs": [],
   "source": []
  }
 ],
 "metadata": {
  "kernelspec": {
   "display_name": "sentiment_analysis",
   "language": "python",
   "name": "python3"
  },
  "language_info": {
   "codemirror_mode": {
    "name": "ipython",
    "version": 3
   },
   "file_extension": ".py",
   "mimetype": "text/x-python",
   "name": "python",
   "nbconvert_exporter": "python",
   "pygments_lexer": "ipython3",
   "version": "3.11.10"
  }
 },
 "nbformat": 4,
 "nbformat_minor": 2
}
