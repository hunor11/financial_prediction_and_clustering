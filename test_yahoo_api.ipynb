{
 "cells": [
  {
   "cell_type": "code",
   "execution_count": 2,
   "metadata": {},
   "outputs": [
    {
     "name": "stdout",
     "output_type": "stream",
     "text": [
      "General Information: {'maxAge': 86400, 'priceHint': 2, 'previousClose': 5705.45, 'open': 5723.22, 'dayLow': 5723.22, 'dayHigh': 5772.52, 'regularMarketPreviousClose': 5705.45, 'regularMarketOpen': 5723.22, 'regularMarketDayLow': 5723.22, 'regularMarketDayHigh': 5772.52, 'volume': 2742173000, 'regularMarketVolume': 2742173000, 'averageVolume': 3703295937, 'averageVolume10days': 3696966000, 'averageDailyVolume10Day': 3696966000, 'bid': 5690.73, 'ask': 5766.99, 'fiftyTwoWeekLow': 4343.94, 'fiftyTwoWeekHigh': 5878.46, 'fiftyDayAverage': 5701.743, 'twoHundredDayAverage': 5359.147, 'currency': 'USD', 'exchange': 'SNP', 'quoteType': 'INDEX', 'symbol': '^GSPC', 'underlyingSymbol': '^GSPC', 'shortName': 'S&P 500', 'longName': 'S&P 500', 'firstTradeDateEpochUtc': -1325583000, 'timeZoneFullName': 'America/New_York', 'timeZoneShortName': 'EST', 'uuid': '8ffd55d1-3d1d-3733-a480-56768bc708e6', 'messageBoardId': 'finmb_INDEXGSPC', 'gmtOffSetMilliseconds': -18000000, 'trailingPegRatio': None}\n",
      "Historical Data (last year):                                   Open         High          Low        Close  \\\n",
      "Date                                                                            \n",
      "2023-11-02 00:00:00-04:00  4268.259766  4319.720215  4268.259766  4317.779785   \n",
      "2023-11-03 00:00:00-04:00  4334.229980  4373.620117  4334.229980  4358.339844   \n",
      "2023-11-06 00:00:00-05:00  4364.270020  4372.209961  4347.529785  4365.979980   \n",
      "2023-11-07 00:00:00-05:00  4366.209961  4386.259766  4355.410156  4378.379883   \n",
      "2023-11-08 00:00:00-05:00  4384.370117  4391.200195  4359.759766  4382.779785   \n",
      "...                                ...          ...          ...          ...   \n",
      "2024-10-28 00:00:00-04:00  5833.930176  5842.919922  5823.080078  5823.520020   \n",
      "2024-10-29 00:00:00-04:00  5819.680176  5847.189941  5802.169922  5832.919922   \n",
      "2024-10-30 00:00:00-04:00  5832.649902  5850.939941  5811.279785  5813.669922   \n",
      "2024-10-31 00:00:00-04:00  5775.339844  5775.339844  5702.859863  5705.450195   \n",
      "2024-11-01 00:00:00-04:00  5723.220215  5772.520020  5723.220215  5728.799805   \n",
      "\n",
      "                               Volume  Dividends  Stock Splits  \n",
      "Date                                                            \n",
      "2023-11-02 00:00:00-04:00  4669780000        0.0           0.0  \n",
      "2023-11-03 00:00:00-04:00  4570960000        0.0           0.0  \n",
      "2023-11-06 00:00:00-05:00  3656340000        0.0           0.0  \n",
      "2023-11-07 00:00:00-05:00  3791230000        0.0           0.0  \n",
      "2023-11-08 00:00:00-05:00  3729510000        0.0           0.0  \n",
      "...                               ...        ...           ...  \n",
      "2024-10-28 00:00:00-04:00  3691280000        0.0           0.0  \n",
      "2024-10-29 00:00:00-04:00  3879100000        0.0           0.0  \n",
      "2024-10-30 00:00:00-04:00  3851120000        0.0           0.0  \n",
      "2024-10-31 00:00:00-04:00  4425660000        0.0           0.0  \n",
      "2024-11-01 00:00:00-04:00  3796450000        0.0           0.0  \n",
      "\n",
      "[252 rows x 7 columns]\n",
      "Current Price: N/A\n"
     ]
    }
   ],
   "source": [
    "import yfinance as yf\n",
    "\n",
    "# Define the ticker for the S&P 500 index (SPY is the ETF for the S&P 500)\n",
    "ticker_symbol = \"^GSPC\"  # Use \"SPY\" for the ETF or \"^GSPC\" for the index itself\n",
    "\n",
    "# Create a Ticker object\n",
    "sp500 = yf.Ticker(ticker_symbol)\n",
    "\n",
    "# Get the latest market data\n",
    "sp500_info = sp500.info  # General information about the S&P 500\n",
    "print(\"General Information:\", sp500_info)\n",
    "\n",
    "# Get historical market data\n",
    "sp500_history = sp500.history(period=\"1y\")  # Retrieve 1 year of data\n",
    "print(\"Historical Data (last year):\", sp500_history)\n",
    "\n",
    "# Get specific information (e.g., current price)\n",
    "current_price = sp500_info.get(\"currentPrice\", \"N/A\")\n",
    "print(\"Current Price:\", current_price)\n"
   ]
  },
  {
   "cell_type": "code",
   "execution_count": null,
   "metadata": {},
   "outputs": [],
   "source": []
  }
 ],
 "metadata": {
  "kernelspec": {
   "display_name": "sentiment_analysis",
   "language": "python",
   "name": "python3"
  },
  "language_info": {
   "codemirror_mode": {
    "name": "ipython",
    "version": 3
   },
   "file_extension": ".py",
   "mimetype": "text/x-python",
   "name": "python",
   "nbconvert_exporter": "python",
   "pygments_lexer": "ipython3",
   "version": "3.11.10"
  }
 },
 "nbformat": 4,
 "nbformat_minor": 2
}
