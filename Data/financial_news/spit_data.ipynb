{
 "cells": [
  {
   "cell_type": "code",
   "execution_count": 7,
   "metadata": {},
   "outputs": [],
   "source": [
    "# split financial news data.csv into 2 files at half as it is too large\n",
    "import pandas as pd\n",
    "\n",
    "df = pd.read_csv('data.csv').rename(columns={'Unnamed: 0': 'id'})\n",
    "\n",
    "# delete rows where there arent enough columns\n",
    "df = df.dropna(subset=['title', 'date', 'stock', 'id'])\n",
    "\n",
    "df['id'] = df['id'].astype(int)\n",
    "\n",
    "df1 = df.iloc[:len(df)//2]\n",
    "df2 = df.iloc[len(df)//2:]\n",
    "\n",
    "df1.to_csv('data1.csv', index=False)\n",
    "df2.to_csv('data2.csv', index=False)"
   ]
  },
  {
   "cell_type": "code",
   "execution_count": null,
   "metadata": {},
   "outputs": [],
   "source": []
  }
 ],
 "metadata": {
  "kernelspec": {
   "display_name": "Python 3",
   "language": "python",
   "name": "python3"
  },
  "language_info": {
   "codemirror_mode": {
    "name": "ipython",
    "version": 3
   },
   "file_extension": ".py",
   "mimetype": "text/x-python",
   "name": "python",
   "nbconvert_exporter": "python",
   "pygments_lexer": "ipython3",
   "version": "3.9.6"
  }
 },
 "nbformat": 4,
 "nbformat_minor": 2
}
